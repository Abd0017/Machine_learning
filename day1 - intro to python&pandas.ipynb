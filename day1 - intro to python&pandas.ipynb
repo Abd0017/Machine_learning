{
 "cells": [
  {
   "cell_type": "code",
   "execution_count": 2,
   "id": "099fcc1c",
   "metadata": {},
   "outputs": [
    {
     "data": {
      "text/plain": [
       "'C:\\\\Users\\\\abdul\\\\Documents\\\\MSAI\\\\day1'"
      ]
     },
     "execution_count": 2,
     "metadata": {},
     "output_type": "execute_result"
    }
   ],
   "source": [
    "pwd"
   ]
  },
  {
   "cell_type": "markdown",
   "id": "16dbaf6a",
   "metadata": {},
   "source": [
    "# <font color=red> intro to python&pandas "
   ]
  },
  {
   "cell_type": "markdown",
   "id": "40eb7916",
   "metadata": {},
   "source": [
    "$ \\int \\frac{dx}{sinx}$"
   ]
  },
  {
   "cell_type": "markdown",
   "id": "1be5cc3d",
   "metadata": {},
   "source": [
    "I like <b><i><u>machine learning</b></i></u>"
   ]
  },
  {
   "cell_type": "code",
   "execution_count": 3,
   "id": "8248bcf2",
   "metadata": {},
   "outputs": [
    {
     "data": {
      "text/plain": [
       "'hello world'"
      ]
     },
     "execution_count": 3,
     "metadata": {},
     "output_type": "execute_result"
    }
   ],
   "source": [
    "\"hello world\"\n"
   ]
  },
  {
   "cell_type": "code",
   "execution_count": 4,
   "id": "9500d0f4",
   "metadata": {},
   "outputs": [
    {
     "data": {
      "text/plain": [
       "'no no no no no no no no no no '"
      ]
     },
     "execution_count": 4,
     "metadata": {},
     "output_type": "execute_result"
    }
   ],
   "source": [
    "'no ' *10\n"
   ]
  },
  {
   "cell_type": "code",
   "execution_count": 5,
   "id": "efae116f",
   "metadata": {},
   "outputs": [],
   "source": [
    "a=2.2\n",
    "b=3\n",
    "c=a*b\n",
    "\n"
   ]
  },
  {
   "cell_type": "code",
   "execution_count": 6,
   "id": "a1087855",
   "metadata": {},
   "outputs": [
    {
     "data": {
      "text/plain": [
       "(2.2, 3, 6.6000000000000005)"
      ]
     },
     "execution_count": 6,
     "metadata": {},
     "output_type": "execute_result"
    }
   ],
   "source": [
    "(a,b,c)"
   ]
  },
  {
   "cell_type": "code",
   "execution_count": 7,
   "id": "bc4f81bf",
   "metadata": {},
   "outputs": [
    {
     "data": {
      "text/plain": [
       "float"
      ]
     },
     "execution_count": 7,
     "metadata": {},
     "output_type": "execute_result"
    }
   ],
   "source": [
    "type(c)"
   ]
  },
  {
   "cell_type": "code",
   "execution_count": 8,
   "id": "d280fc02",
   "metadata": {},
   "outputs": [
    {
     "data": {
      "text/plain": [
       "int"
      ]
     },
     "execution_count": 8,
     "metadata": {},
     "output_type": "execute_result"
    }
   ],
   "source": [
    "type(b)"
   ]
  },
  {
   "cell_type": "code",
   "execution_count": 9,
   "id": "7ab3750f",
   "metadata": {},
   "outputs": [],
   "source": [
    "name='abd'"
   ]
  },
  {
   "cell_type": "code",
   "execution_count": 10,
   "id": "1f032294",
   "metadata": {},
   "outputs": [
    {
     "data": {
      "text/plain": [
       "str"
      ]
     },
     "execution_count": 10,
     "metadata": {},
     "output_type": "execute_result"
    }
   ],
   "source": [
    "type(name)\n"
   ]
  },
  {
   "cell_type": "code",
   "execution_count": 11,
   "id": "87be7085",
   "metadata": {},
   "outputs": [
    {
     "data": {
      "text/plain": [
       "'variables can store table '"
      ]
     },
     "execution_count": 11,
     "metadata": {},
     "output_type": "execute_result"
    }
   ],
   "source": [
    "\n",
    "'variables can store table '"
   ]
  },
  {
   "cell_type": "code",
   "execution_count": 12,
   "id": "c30d63e7",
   "metadata": {},
   "outputs": [],
   "source": [
    "import pandas as pd"
   ]
  },
  {
   "cell_type": "code",
   "execution_count": 13,
   "id": "182d9c79",
   "metadata": {},
   "outputs": [],
   "source": [
    "df=pd.read_xml(\"data.xml\")"
   ]
  },
  {
   "cell_type": "code",
   "execution_count": 14,
   "id": "ca8491c8",
   "metadata": {},
   "outputs": [
    {
     "ename": "ModuleNotFoundError",
     "evalue": "No module named 'SparseArray'",
     "output_type": "error",
     "traceback": [
      "\u001b[1;31m---------------------------------------------------------------------------\u001b[0m",
      "\u001b[1;31mModuleNotFoundError\u001b[0m                       Traceback (most recent call last)",
      "Cell \u001b[1;32mIn[14], line 1\u001b[0m\n\u001b[1;32m----> 1\u001b[0m \u001b[38;5;28;01mimport\u001b[39;00m \u001b[38;5;21;01mSparseArray\u001b[39;00m \u001b[38;5;28;01mas\u001b[39;00m \u001b[38;5;21;01m_SparseArray\u001b[39;00m\n",
      "\u001b[1;31mModuleNotFoundError\u001b[0m: No module named 'SparseArray'"
     ]
    }
   ],
   "source": [
    "import SparseArray as _SparseArray"
   ]
  },
  {
   "cell_type": "code",
   "execution_count": null,
   "id": "a6484474",
   "metadata": {},
   "outputs": [],
   "source": [
    "df=read_xlsm(\"test_pandas.xlsm\")"
   ]
  },
  {
   "cell_type": "code",
   "execution_count": null,
   "id": "826ddf27",
   "metadata": {},
   "outputs": [],
   "source": [
    "import pandas as pd #pandas is a library,we use this code to import data ,pd used as an alia to the word pandas."
   ]
  },
  {
   "cell_type": "code",
   "execution_count": null,
   "id": "66838ede",
   "metadata": {},
   "outputs": [],
   "source": [
    "df=pd.read_xml(\"data.xml\")"
   ]
  },
  {
   "cell_type": "code",
   "execution_count": null,
   "id": "3c458f4a",
   "metadata": {},
   "outputs": [],
   "source": [
    "df\n"
   ]
  },
  {
   "cell_type": "code",
   "execution_count": null,
   "id": "726aa4fd",
   "metadata": {},
   "outputs": [],
   "source": [
    "df=pd.read_xml(\"data.xml\")"
   ]
  },
  {
   "cell_type": "code",
   "execution_count": null,
   "id": "4f91039c",
   "metadata": {},
   "outputs": [],
   "source": [
    "df\n"
   ]
  },
  {
   "cell_type": "code",
   "execution_count": null,
   "id": "d2a96f12",
   "metadata": {},
   "outputs": [],
   "source": [
    "df=pd.read_csv(\"train.csv\")"
   ]
  },
  {
   "cell_type": "code",
   "execution_count": null,
   "id": "1381725a",
   "metadata": {},
   "outputs": [],
   "source": [
    "df"
   ]
  },
  {
   "cell_type": "code",
   "execution_count": null,
   "id": "8c46bf3a",
   "metadata": {},
   "outputs": [],
   "source": [
    "import pandas as pd #pandas reads datasets from any database"
   ]
  },
  {
   "cell_type": "code",
   "execution_count": null,
   "id": "055944b4",
   "metadata": {},
   "outputs": [],
   "source": [
    "df=pd.read_csv(\"train.csv\")"
   ]
  },
  {
   "cell_type": "code",
   "execution_count": null,
   "id": "1990b0f7",
   "metadata": {},
   "outputs": [],
   "source": [
    "df #we can use df or data or anything ,it represents the entire dataset."
   ]
  },
  {
   "cell_type": "markdown",
   "id": "0c1c219f",
   "metadata": {},
   "source": [
    "# EDA- exploratory data analysis"
   ]
  },
  {
   "cell_type": "code",
   "execution_count": null,
   "id": "db2ebb21",
   "metadata": {},
   "outputs": [],
   "source": [
    "df=pd.read_clipboard()"
   ]
  },
  {
   "cell_type": "code",
   "execution_count": null,
   "id": "baeced1d",
   "metadata": {},
   "outputs": [],
   "source": [
    "df"
   ]
  },
  {
   "cell_type": "code",
   "execution_count": null,
   "id": "70401772",
   "metadata": {},
   "outputs": [],
   "source": [
    "\"ipl standings\""
   ]
  },
  {
   "cell_type": "code",
   "execution_count": null,
   "id": "b67ee032",
   "metadata": {},
   "outputs": [],
   "source": [
    "df=pd.read_clipboard()"
   ]
  },
  {
   "cell_type": "code",
   "execution_count": null,
   "id": "b5bf5c5d",
   "metadata": {},
   "outputs": [],
   "source": []
  },
  {
   "cell_type": "code",
   "execution_count": null,
   "id": "a86a7543",
   "metadata": {},
   "outputs": [],
   "source": [
    "df=pd.read_clipboard()"
   ]
  },
  {
   "cell_type": "code",
   "execution_count": null,
   "id": "72347e73",
   "metadata": {},
   "outputs": [],
   "source": [
    "df=pd.read_clipboard(header=None)"
   ]
  },
  {
   "cell_type": "code",
   "execution_count": null,
   "id": "9ec2e772",
   "metadata": {},
   "outputs": [],
   "source": [
    "\"covid \""
   ]
  },
  {
   "cell_type": "code",
   "execution_count": null,
   "id": "cfa9f56c",
   "metadata": {
    "scrolled": true
   },
   "outputs": [],
   "source": [
    "df=pd.read_clip"
   ]
  },
  {
   "cell_type": "code",
   "execution_count": null,
   "id": "60743294",
   "metadata": {},
   "outputs": [],
   "source": [
    "df=pd.read_html(\"https://en.wikipedia.org/wiki/Fortune_500\")[0] #html used to read from internet"
   ]
  },
  {
   "cell_type": "code",
   "execution_count": null,
   "id": "79052906",
   "metadata": {},
   "outputs": [],
   "source": [
    "df"
   ]
  },
  {
   "cell_type": "code",
   "execution_count": null,
   "id": "9a25da81",
   "metadata": {},
   "outputs": [],
   "source": [
    "df=pd.read_html(\"https://en.wikipedia.org/wiki/Fortune_500\")[1] #the number in the square parenthisis rep the number of the table."
   ]
  },
  {
   "cell_type": "code",
   "execution_count": null,
   "id": "91992a2a",
   "metadata": {},
   "outputs": [],
   "source": [
    "df"
   ]
  },
  {
   "cell_type": "code",
   "execution_count": null,
   "id": "f5e333b5",
   "metadata": {},
   "outputs": [],
   "source": [
    "df=pd.read_excel(\"sales-funnel.xlsx\")"
   ]
  },
  {
   "cell_type": "code",
   "execution_count": null,
   "id": "ed11883d",
   "metadata": {},
   "outputs": [],
   "source": [
    "df"
   ]
  },
  {
   "cell_type": "code",
   "execution_count": null,
   "id": "e1a298d8",
   "metadata": {},
   "outputs": [],
   "source": [
    "df=pd.read_html('https://www.w3schools.com/html/html_tables.asp')[0] #this is a html table."
   ]
  },
  {
   "cell_type": "code",
   "execution_count": null,
   "id": "f1c3d68c",
   "metadata": {},
   "outputs": [],
   "source": [
    "df"
   ]
  },
  {
   "cell_type": "code",
   "execution_count": null,
   "id": "2e0d7d6e",
   "metadata": {},
   "outputs": [],
   "source": [
    "df=pd.read_html('https://cmrdb.fysik.dtu.dk/c2db/')[0]"
   ]
  },
  {
   "cell_type": "code",
   "execution_count": null,
   "id": "b7e969aa",
   "metadata": {},
   "outputs": [],
   "source": [
    "df"
   ]
  },
  {
   "cell_type": "code",
   "execution_count": null,
   "id": "843d3863",
   "metadata": {},
   "outputs": [],
   "source": [
    "df.to_csv('datafromint.csv')"
   ]
  },
  {
   "cell_type": "code",
   "execution_count": null,
   "id": "bcf213ac",
   "metadata": {},
   "outputs": [],
   "source": [
    "df=pd.read_html('https://cmrdb.fysik.dtu.dk/c2db/')[0]"
   ]
  },
  {
   "cell_type": "code",
   "execution_count": null,
   "id": "4e6a7ff3",
   "metadata": {},
   "outputs": [],
   "source": [
    "import pandas as pd"
   ]
  },
  {
   "cell_type": "code",
   "execution_count": null,
   "id": "1d654185",
   "metadata": {},
   "outputs": [],
   "source": [
    "df=pd.read_html('https://cmrdb.fysik.dtu.dk/c2db/')[0]"
   ]
  },
  {
   "cell_type": "code",
   "execution_count": null,
   "id": "e55b9753",
   "metadata": {},
   "outputs": [],
   "source": [
    "df"
   ]
  },
  {
   "cell_type": "code",
   "execution_count": null,
   "id": "b26af2f4",
   "metadata": {},
   "outputs": [],
   "source": [
    "df.to_csv('datafrominternet.csv')"
   ]
  },
  {
   "cell_type": "code",
   "execution_count": null,
   "id": "efa89da7",
   "metadata": {},
   "outputs": [],
   "source": [
    "#doing the above code df.to_csv saves the data into the computer in the name datafrominternet."
   ]
  },
  {
   "cell_type": "code",
   "execution_count": null,
   "id": "76cc242a",
   "metadata": {},
   "outputs": [],
   "source": [
    "df.to_excel('datafrominternet12.xlsx')"
   ]
  },
  {
   "cell_type": "markdown",
   "id": "10b8e946",
   "metadata": {},
   "source": [
    "# EDA Exploratory data analysis"
   ]
  },
  {
   "cell_type": "code",
   "execution_count": null,
   "id": "d10d4ae5",
   "metadata": {},
   "outputs": [],
   "source": [
    "df.head() #top 5 rows"
   ]
  },
  {
   "cell_type": "code",
   "execution_count": null,
   "id": "a2401a24",
   "metadata": {},
   "outputs": [],
   "source": [
    "df.sample() #random dataset"
   ]
  },
  {
   "cell_type": "code",
   "execution_count": null,
   "id": "7c9e0144",
   "metadata": {},
   "outputs": [],
   "source": [
    "df.sample(3) #3 rows are created"
   ]
  },
  {
   "cell_type": "code",
   "execution_count": null,
   "id": "0c40c2c6",
   "metadata": {},
   "outputs": [],
   "source": [
    "df.shape #shape of how mnay  rows,coloumns"
   ]
  },
  {
   "cell_type": "code",
   "execution_count": null,
   "id": "04a8bb07",
   "metadata": {},
   "outputs": [],
   "source": [
    "df.describe() #gives mean,frequency etc...the statistical stuffs"
   ]
  },
  {
   "cell_type": "code",
   "execution_count": null,
   "id": "5b040d63",
   "metadata": {},
   "outputs": [],
   "source": [
    "df.corr()"
   ]
  },
  {
   "cell_type": "code",
   "execution_count": null,
   "id": "1bfce0fe",
   "metadata": {},
   "outputs": [],
   "source": [
    "import pandas as pd"
   ]
  },
  {
   "cell_type": "code",
   "execution_count": null,
   "id": "9ea295ed",
   "metadata": {},
   "outputs": [],
   "source": [
    "df=pd.read_csv('train.csv')"
   ]
  },
  {
   "cell_type": "code",
   "execution_count": null,
   "id": "10454bd3",
   "metadata": {},
   "outputs": [],
   "source": [
    "df"
   ]
  },
  {
   "cell_type": "code",
   "execution_count": null,
   "id": "865d9c29",
   "metadata": {},
   "outputs": [],
   "source": [
    "df.describe()"
   ]
  },
  {
   "cell_type": "code",
   "execution_count": null,
   "id": "1ebfb003",
   "metadata": {},
   "outputs": [],
   "source": [
    "df.corr() #corr== correlate  ##The corr function can be used to find the correlation between any two or more columns in a DataFrame. It is a useful tool for exploring data and identifying relationships between variables."
   ]
  },
  {
   "cell_type": "code",
   "execution_count": null,
   "id": "6fb3cd40",
   "metadata": {},
   "outputs": [],
   "source": [
    "#the correlation of passenger age with survived can be viewed as,as the age increaes there is a positive correlation."
   ]
  },
  {
   "cell_type": "code",
   "execution_count": null,
   "id": "f1cce0b9",
   "metadata": {},
   "outputs": [],
   "source": [
    "import seaborn as sns  #seaborn library,alias is sns for seaborn...#used to rep data and corr in attractive way."
   ]
  },
  {
   "cell_type": "raw",
   "id": "d8d1f949",
   "metadata": {},
   "source": [
    "sns.heatmap(df.corr())"
   ]
  },
  {
   "cell_type": "code",
   "execution_count": null,
   "id": "b10ea83b",
   "metadata": {},
   "outputs": [],
   "source": [
    "sns.lineplot(df.corr())  \n",
    "    \n",
    "             \n",
    "               #attrributes \n",
    "#*Line plots---lineplot\n",
    "#Scatter plots---scatterplot\n",
    "#Bar charts\n",
    "#Histograms\n",
    "#Boxplots\n",
    "#Violin plots\n",
    "#Heatmaps---heatmap\n",
    "##Pair plots\n",
    "#Joint plots\n",
    "#And more#\n"
   ]
  },
  {
   "cell_type": "code",
   "execution_count": null,
   "id": "c1561c7a",
   "metadata": {},
   "outputs": [],
   "source": [
    "sns.scatterplot(df.corr())"
   ]
  },
  {
   "cell_type": "code",
   "execution_count": null,
   "id": "244b7488",
   "metadata": {},
   "outputs": [],
   "source": [
    "sns.heatmap(df.corr())"
   ]
  },
  {
   "cell_type": "code",
   "execution_count": null,
   "id": "e09a42ad",
   "metadata": {},
   "outputs": [],
   "source": [
    "sns.heatmap(df.corr(),annot=True) #annot=True shows the correlation  on the heatmap."
   ]
  },
  {
   "cell_type": "code",
   "execution_count": null,
   "id": "162911fe",
   "metadata": {},
   "outputs": [],
   "source": [
    "sns.pairplot(df) #it creatas charts= rows*column(here 7*7=49)"
   ]
  },
  {
   "cell_type": "code",
   "execution_count": null,
   "id": "3c498e2a",
   "metadata": {},
   "outputs": [],
   "source": [
    "sns.pairplot(df,hue='Survived') # hue  used to remove the survived datasets."
   ]
  },
  {
   "cell_type": "code",
   "execution_count": null,
   "id": "9d17db26",
   "metadata": {},
   "outputs": [],
   "source": [
    "df['Gender']"
   ]
  },
  {
   "cell_type": "code",
   "execution_count": null,
   "id": "75e5c4e1",
   "metadata": {},
   "outputs": [],
   "source": [
    "df['Gender'].value_counts() ## gives how many male,fm."
   ]
  },
  {
   "cell_type": "code",
   "execution_count": null,
   "id": "8ad5ca0c",
   "metadata": {},
   "outputs": [],
   "source": [
    "df.head()"
   ]
  },
  {
   "cell_type": "code",
   "execution_count": null,
   "id": "eccd7918",
   "metadata": {},
   "outputs": [],
   "source": [
    "df['Age'].value_counts()"
   ]
  },
  {
   "cell_type": "code",
   "execution_count": null,
   "id": "38e2ffe6",
   "metadata": {},
   "outputs": [],
   "source": [
    "df['Survived'].value_counts()"
   ]
  },
  {
   "cell_type": "code",
   "execution_count": null,
   "id": "75403a6a",
   "metadata": {},
   "outputs": [],
   "source": [
    "df['Survived'].value_counts(normalize=True) #gives percentage"
   ]
  },
  {
   "cell_type": "code",
   "execution_count": null,
   "id": "c8d8fae6",
   "metadata": {},
   "outputs": [],
   "source": [
    "df.sample(5)"
   ]
  },
  {
   "cell_type": "code",
   "execution_count": null,
   "id": "857f563e",
   "metadata": {},
   "outputs": [],
   "source": [
    "df[df['Age']<18]"
   ]
  },
  {
   "cell_type": "code",
   "execution_count": null,
   "id": "5c2f390a",
   "metadata": {},
   "outputs": [],
   "source": [
    "df[df['Age']<2]"
   ]
  },
  {
   "cell_type": "code",
   "execution_count": null,
   "id": "5644288a",
   "metadata": {},
   "outputs": [],
   "source": [
    "df[df['Age']<2]"
   ]
  },
  {
   "cell_type": "code",
   "execution_count": null,
   "id": "a74f1042",
   "metadata": {},
   "outputs": [],
   "source": [
    "df[(df['Age']<18)&(df['Gender']=='female')]"
   ]
  },
  {
   "cell_type": "code",
   "execution_count": null,
   "id": "7faea24d",
   "metadata": {},
   "outputs": [],
   "source": [
    "df2=df[(df['Age']<18)&(df['Gender']=='female')]\n"
   ]
  },
  {
   "cell_type": "code",
   "execution_count": null,
   "id": "d30a413e",
   "metadata": {},
   "outputs": [],
   "source": [
    "df2.describe() #df2 is new variable to which the above data set was given."
   ]
  },
  {
   "cell_type": "code",
   "execution_count": null,
   "id": "bbe68cb2",
   "metadata": {},
   "outputs": [],
   "source": [
    "df2.head()"
   ]
  },
  {
   "cell_type": "code",
   "execution_count": null,
   "id": "4b1f649b",
   "metadata": {},
   "outputs": [],
   "source": [
    "df2.tail() #shows last 5 rows"
   ]
  },
  {
   "cell_type": "code",
   "execution_count": null,
   "id": "c7419326",
   "metadata": {},
   "outputs": [],
   "source": [
    "df2.info() #shows datatype of eadch column"
   ]
  },
  {
   "cell_type": "code",
   "execution_count": null,
   "id": "9262c1b5",
   "metadata": {},
   "outputs": [],
   "source": [
    "df.isnull().sum() #shows missing values"
   ]
  },
  {
   "cell_type": "code",
   "execution_count": null,
   "id": "e178e633",
   "metadata": {},
   "outputs": [],
   "source": [
    "df['Embarked'].value_counts()"
   ]
  },
  {
   "cell_type": "code",
   "execution_count": null,
   "id": "8353292f",
   "metadata": {},
   "outputs": [],
   "source": [
    "sns.countplot(x=df['Embarked'])"
   ]
  },
  {
   "cell_type": "code",
   "execution_count": null,
   "id": "51305944",
   "metadata": {},
   "outputs": [],
   "source": [
    "sns.lineplot(df['Embarked'])"
   ]
  },
  {
   "cell_type": "code",
   "execution_count": null,
   "id": "bc4d562a",
   "metadata": {},
   "outputs": [],
   "source": [
    "df['Embarked'].mode()"
   ]
  },
  {
   "cell_type": "code",
   "execution_count": null,
   "id": "5ab9195e",
   "metadata": {},
   "outputs": [],
   "source": [
    "df['Age'].max(),df['Age'].min(),df['Age'].mean(),df['Age'].mode(),df['Age'].median(),df['Age'].std()"
   ]
  },
  {
   "cell_type": "code",
   "execution_count": null,
   "id": "efb5f6a5",
   "metadata": {},
   "outputs": [],
   "source": [
    "df.groupby('Gender').mean() #groupby gender and then takes the mean."
   ]
  },
  {
   "cell_type": "code",
   "execution_count": null,
   "id": "7fe6d931",
   "metadata": {},
   "outputs": [],
   "source": [
    "df['Embarked']=df['Embarked'].fillna('S') #s is the mode,thus we used s there."
   ]
  },
  {
   "cell_type": "code",
   "execution_count": null,
   "id": "cc3bf58d",
   "metadata": {},
   "outputs": [],
   "source": [
    "df.isnull().sum()"
   ]
  },
  {
   "cell_type": "code",
   "execution_count": null,
   "id": "14b88c8f",
   "metadata": {},
   "outputs": [],
   "source": [
    "df['Embarked'].value_counts(normalize=True)"
   ]
  },
  {
   "cell_type": "markdown",
   "id": "75cc35ba",
   "metadata": {},
   "source": [
    "# lets robots talk"
   ]
  },
  {
   "cell_type": "code",
   "execution_count": null,
   "id": "748e0d06",
   "metadata": {},
   "outputs": [],
   "source": [
    "#pip install gtts ##\n",
    "#The command pip install gtts installs the Google Text-to-Speech (GTTS) Python library. GTTS is a library that can be used to convert text to speech. It can be used to generate audio files in a variety of formats, including MP3, WAV, and OGG."
   ]
  },
  {
   "cell_type": "code",
   "execution_count": null,
   "id": "3a805ab3",
   "metadata": {},
   "outputs": [],
   "source": [
    "from gtts import gTTS\n",
    " \n",
    "text=\"the most imporatant gain of this world is to die as a muslim.\"\n",
    "output=gTTS(text,lang='ar',slow=False)\n",
    "output.save('textsp.mp3')"
   ]
  },
  {
   "cell_type": "code",
   "execution_count": null,
   "id": "e733ab13",
   "metadata": {},
   "outputs": [],
   "source": [
    "from IPython.display import Audio \n",
    "audio=Audio('textsp.mp3')\n",
    "audio"
   ]
  },
  {
   "cell_type": "code",
   "execution_count": null,
   "id": "2bc70534",
   "metadata": {},
   "outputs": [],
   "source": [
    "from gtts import gTTS\n",
    " \n",
    "text=\"the most imporatant gain of this world is to die as a muslim.\"\n",
    "output=gTTS(text,lang='ar')\n",
    "output.save('textsp.mp3')"
   ]
  },
  {
   "cell_type": "code",
   "execution_count": null,
   "id": "3f33bc15",
   "metadata": {},
   "outputs": [],
   "source": [
    "from IPython.display import Audio\n",
    "audio=Audio('textsp.mp3')\n",
    "audio"
   ]
  },
  {
   "cell_type": "code",
   "execution_count": null,
   "id": "0837af97",
   "metadata": {},
   "outputs": [],
   "source": [
    "pip3 install jupyter-tabnine --user\n",
    "jupyter nbextension install --py jupyter_tabnine --user\n",
    "jupyter nbextension enable --py jupyter_tabnine --user\n",
    "jupyter serverextension enable --py jupyter_tabnine --user"
   ]
  },
  {
   "cell_type": "code",
   "execution_count": null,
   "id": "94ea0822",
   "metadata": {},
   "outputs": [],
   "source": [
    "pip3 install jupyter_tabnine --user\n",
    "jupyter nbextension install --py jupyter_tabnine --user\n",
    "jupyter nbextension enable --py jupyter_tabnine --user\n",
    "jupyter serverextension enable --py jupyter_tabnine --user"
   ]
  },
  {
   "cell_type": "code",
   "execution_count": null,
   "id": "79106ba6",
   "metadata": {},
   "outputs": [],
   "source": [
    "pip3 install jupyter_tabnine --user\n"
   ]
  },
  {
   "cell_type": "code",
   "execution_count": null,
   "id": "c4fb96e0",
   "metadata": {},
   "outputs": [],
   "source": [
    "pip3 install jupyter_tabnine --user\n"
   ]
  },
  {
   "cell_type": "code",
   "execution_count": null,
   "id": "5efc47de",
   "metadata": {},
   "outputs": [],
   "source": [
    "pip3 install jupyter_tabnine --user\n"
   ]
  },
  {
   "cell_type": "code",
   "execution_count": 16,
   "id": "becd8cd4",
   "metadata": {},
   "outputs": [
    {
     "ename": "SyntaxError",
     "evalue": "invalid syntax (2028136543.py, line 1)",
     "output_type": "error",
     "traceback": [
      "\u001b[1;36m  Cell \u001b[1;32mIn[16], line 1\u001b[1;36m\u001b[0m\n\u001b[1;33m    pip3 install jupyter_tabnine --user\u001b[0m\n\u001b[1;37m         ^\u001b[0m\n\u001b[1;31mSyntaxError\u001b[0m\u001b[1;31m:\u001b[0m invalid syntax\n"
     ]
    }
   ],
   "source": [
    "pip3 install jupyter_tabnine --user\n",
    "jupyter nbextension install --py jupyter_tabnine --user\n",
    "jupyter nbextension enable --py jupyter_tabnine --user\n",
    "jupyter serverextension enable --py jupyter_tabnine --user"
   ]
  },
  {
   "cell_type": "code",
   "execution_count": null,
   "id": "bebf9ee5",
   "metadata": {},
   "outputs": [],
   "source": [
    "pip3 install jupyter_tabnine --user"
   ]
  },
  {
   "cell_type": "code",
   "execution_count": 15,
   "id": "561d07a6",
   "metadata": {},
   "outputs": [
    {
     "ename": "SyntaxError",
     "evalue": "invalid syntax (3207627657.py, line 1)",
     "output_type": "error",
     "traceback": [
      "\u001b[1;36m  Cell \u001b[1;32mIn[15], line 1\u001b[1;36m\u001b[0m\n\u001b[1;33m    pip3 install jupyter_tabnine --user\u001b[0m\n\u001b[1;37m         ^\u001b[0m\n\u001b[1;31mSyntaxError\u001b[0m\u001b[1;31m:\u001b[0m invalid syntax\n"
     ]
    }
   ],
   "source": [
    "pip3 install jupyter_tabnine --user\n"
   ]
  },
  {
   "cell_type": "code",
   "execution_count": 17,
   "id": "730cc623",
   "metadata": {},
   "outputs": [
    {
     "ename": "SyntaxError",
     "evalue": "invalid syntax (2116537122.py, line 1)",
     "output_type": "error",
     "traceback": [
      "\u001b[1;36m  Cell \u001b[1;32mIn[17], line 1\u001b[1;36m\u001b[0m\n\u001b[1;33m    pip3 install jupyter_tabnine --user\u001b[0m\n\u001b[1;37m         ^\u001b[0m\n\u001b[1;31mSyntaxError\u001b[0m\u001b[1;31m:\u001b[0m invalid syntax\n"
     ]
    }
   ],
   "source": [
    "pip3 install jupyter_tabnine --user"
   ]
  },
  {
   "cell_type": "code",
   "execution_count": 18,
   "id": "b1c68a06",
   "metadata": {},
   "outputs": [
    {
     "name": "stdout",
     "output_type": "stream",
     "text": [
      "Collecting jupyter_tabnineNote: you may need to restart the kernel to use updated packages.\n",
      "\n",
      "  Downloading jupyter_tabnine-1.2.3-py2.py3-none-any.whl (21 kB)\n",
      "Requirement already satisfied: jupyter-core in c:\\users\\abdul\\anaconda3\\lib\\site-packages (from jupyter_tabnine) (5.2.0)\n",
      "Requirement already satisfied: notebook>=4.2 in c:\\users\\abdul\\anaconda3\\lib\\site-packages (from jupyter_tabnine) (6.5.2)\n",
      "Requirement already satisfied: ipython in c:\\users\\abdul\\anaconda3\\lib\\site-packages (from jupyter_tabnine) (8.10.0)\n",
      "Requirement already satisfied: nbconvert in c:\\users\\abdul\\anaconda3\\lib\\site-packages (from jupyter_tabnine) (6.5.4)\n",
      "Requirement already satisfied: terminado>=0.8.3 in c:\\users\\abdul\\anaconda3\\lib\\site-packages (from notebook>=4.2->jupyter_tabnine) (0.17.1)\n",
      "Requirement already satisfied: ipython-genutils in c:\\users\\abdul\\anaconda3\\lib\\site-packages (from notebook>=4.2->jupyter_tabnine) (0.2.0)\n",
      "Requirement already satisfied: jupyter-client>=5.3.4 in c:\\users\\abdul\\anaconda3\\lib\\site-packages (from notebook>=4.2->jupyter_tabnine) (7.3.4)\n",
      "Requirement already satisfied: nest-asyncio>=1.5 in c:\\users\\abdul\\anaconda3\\lib\\site-packages (from notebook>=4.2->jupyter_tabnine) (1.5.6)\n",
      "Requirement already satisfied: pyzmq>=17 in c:\\users\\abdul\\anaconda3\\lib\\site-packages (from notebook>=4.2->jupyter_tabnine) (23.2.0)\n",
      "Requirement already satisfied: tornado>=6.1 in c:\\users\\abdul\\anaconda3\\lib\\site-packages (from notebook>=4.2->jupyter_tabnine) (6.1)\n",
      "Requirement already satisfied: argon2-cffi in c:\\users\\abdul\\anaconda3\\lib\\site-packages (from notebook>=4.2->jupyter_tabnine) (21.3.0)\n",
      "Requirement already satisfied: Send2Trash>=1.8.0 in c:\\users\\abdul\\anaconda3\\lib\\site-packages (from notebook>=4.2->jupyter_tabnine) (1.8.0)\n",
      "Requirement already satisfied: prometheus-client in c:\\users\\abdul\\anaconda3\\lib\\site-packages (from notebook>=4.2->jupyter_tabnine) (0.14.1)\n",
      "Requirement already satisfied: nbclassic>=0.4.7 in c:\\users\\abdul\\anaconda3\\lib\\site-packages (from notebook>=4.2->jupyter_tabnine) (0.5.2)\n",
      "Requirement already satisfied: nbformat in c:\\users\\abdul\\anaconda3\\lib\\site-packages (from notebook>=4.2->jupyter_tabnine) (5.7.0)\n",
      "Requirement already satisfied: ipykernel in c:\\users\\abdul\\anaconda3\\lib\\site-packages (from notebook>=4.2->jupyter_tabnine) (6.19.2)\n",
      "Requirement already satisfied: jinja2 in c:\\users\\abdul\\anaconda3\\lib\\site-packages (from notebook>=4.2->jupyter_tabnine) (3.1.2)\n",
      "Requirement already satisfied: traitlets>=4.2.1 in c:\\users\\abdul\\anaconda3\\lib\\site-packages (from notebook>=4.2->jupyter_tabnine) (5.7.1)\n",
      "Requirement already satisfied: pywin32>=1.0 in c:\\users\\abdul\\anaconda3\\lib\\site-packages (from jupyter-core->jupyter_tabnine) (305.1)\n",
      "Requirement already satisfied: platformdirs>=2.5 in c:\\users\\abdul\\anaconda3\\lib\\site-packages (from jupyter-core->jupyter_tabnine) (2.5.2)\n",
      "Requirement already satisfied: bleach in c:\\users\\abdul\\anaconda3\\lib\\site-packages (from nbconvert->jupyter_tabnine) (4.1.0)\n",
      "Requirement already satisfied: defusedxml in c:\\users\\abdul\\anaconda3\\lib\\site-packages (from nbconvert->jupyter_tabnine) (0.7.1)\n",
      "Requirement already satisfied: MarkupSafe>=2.0 in c:\\users\\abdul\\anaconda3\\lib\\site-packages (from nbconvert->jupyter_tabnine) (2.1.1)\n",
      "Requirement already satisfied: nbclient>=0.5.0 in c:\\users\\abdul\\anaconda3\\lib\\site-packages (from nbconvert->jupyter_tabnine) (0.5.13)\n",
      "Requirement already satisfied: pandocfilters>=1.4.1 in c:\\users\\abdul\\anaconda3\\lib\\site-packages (from nbconvert->jupyter_tabnine) (1.5.0)\n",
      "Requirement already satisfied: beautifulsoup4 in c:\\users\\abdul\\anaconda3\\lib\\site-packages (from nbconvert->jupyter_tabnine) (4.11.1)\n",
      "Requirement already satisfied: jupyterlab-pygments in c:\\users\\abdul\\anaconda3\\lib\\site-packages (from nbconvert->jupyter_tabnine) (0.1.2)\n",
      "Requirement already satisfied: packaging in c:\\users\\abdul\\anaconda3\\lib\\site-packages (from nbconvert->jupyter_tabnine) (22.0)\n",
      "Requirement already satisfied: pygments>=2.4.1 in c:\\users\\abdul\\anaconda3\\lib\\site-packages (from nbconvert->jupyter_tabnine) (2.11.2)\n",
      "Requirement already satisfied: entrypoints>=0.2.2 in c:\\users\\abdul\\anaconda3\\lib\\site-packages (from nbconvert->jupyter_tabnine) (0.4)\n",
      "Requirement already satisfied: tinycss2 in c:\\users\\abdul\\anaconda3\\lib\\site-packages (from nbconvert->jupyter_tabnine) (1.2.1)\n",
      "Requirement already satisfied: lxml in c:\\users\\abdul\\anaconda3\\lib\\site-packages (from nbconvert->jupyter_tabnine) (4.9.1)\n",
      "Requirement already satisfied: mistune<2,>=0.8.1 in c:\\users\\abdul\\anaconda3\\lib\\site-packages (from nbconvert->jupyter_tabnine) (0.8.4)\n",
      "Requirement already satisfied: backcall in c:\\users\\abdul\\anaconda3\\lib\\site-packages (from ipython->jupyter_tabnine) (0.2.0)\n",
      "Requirement already satisfied: jedi>=0.16 in c:\\users\\abdul\\anaconda3\\lib\\site-packages (from ipython->jupyter_tabnine) (0.18.1)\n",
      "Requirement already satisfied: colorama in c:\\users\\abdul\\anaconda3\\lib\\site-packages (from ipython->jupyter_tabnine) (0.4.6)\n",
      "Requirement already satisfied: stack-data in c:\\users\\abdul\\anaconda3\\lib\\site-packages (from ipython->jupyter_tabnine) (0.2.0)\n",
      "Requirement already satisfied: matplotlib-inline in c:\\users\\abdul\\anaconda3\\lib\\site-packages (from ipython->jupyter_tabnine) (0.1.6)\n",
      "Requirement already satisfied: prompt-toolkit<3.1.0,>=3.0.30 in c:\\users\\abdul\\anaconda3\\lib\\site-packages (from ipython->jupyter_tabnine) (3.0.36)\n",
      "Requirement already satisfied: decorator in c:\\users\\abdul\\anaconda3\\lib\\site-packages (from ipython->jupyter_tabnine) (5.1.1)\n",
      "Requirement already satisfied: pickleshare in c:\\users\\abdul\\anaconda3\\lib\\site-packages (from ipython->jupyter_tabnine) (0.7.5)\n",
      "Requirement already satisfied: parso<0.9.0,>=0.8.0 in c:\\users\\abdul\\anaconda3\\lib\\site-packages (from jedi>=0.16->ipython->jupyter_tabnine) (0.8.3)\n",
      "Requirement already satisfied: python-dateutil>=2.8.2 in c:\\users\\abdul\\anaconda3\\lib\\site-packages (from jupyter-client>=5.3.4->notebook>=4.2->jupyter_tabnine) (2.8.2)\n",
      "Requirement already satisfied: notebook-shim>=0.1.0 in c:\\users\\abdul\\anaconda3\\lib\\site-packages (from nbclassic>=0.4.7->notebook>=4.2->jupyter_tabnine) (0.2.2)\n",
      "Requirement already satisfied: jupyter-server>=1.8 in c:\\users\\abdul\\anaconda3\\lib\\site-packages (from nbclassic>=0.4.7->notebook>=4.2->jupyter_tabnine) (1.23.4)\n",
      "Requirement already satisfied: fastjsonschema in c:\\users\\abdul\\anaconda3\\lib\\site-packages (from nbformat->notebook>=4.2->jupyter_tabnine) (2.16.2)\n",
      "Requirement already satisfied: jsonschema>=2.6 in c:\\users\\abdul\\anaconda3\\lib\\site-packages (from nbformat->notebook>=4.2->jupyter_tabnine) (4.17.3)\n",
      "Requirement already satisfied: wcwidth in c:\\users\\abdul\\anaconda3\\lib\\site-packages (from prompt-toolkit<3.1.0,>=3.0.30->ipython->jupyter_tabnine) (0.2.5)\n",
      "Requirement already satisfied: pywinpty>=1.1.0 in c:\\users\\abdul\\anaconda3\\lib\\site-packages (from terminado>=0.8.3->notebook>=4.2->jupyter_tabnine) (2.0.10)\n",
      "Requirement already satisfied: argon2-cffi-bindings in c:\\users\\abdul\\anaconda3\\lib\\site-packages (from argon2-cffi->notebook>=4.2->jupyter_tabnine) (21.2.0)\n",
      "Requirement already satisfied: soupsieve>1.2 in c:\\users\\abdul\\anaconda3\\lib\\site-packages (from beautifulsoup4->nbconvert->jupyter_tabnine) (2.3.2.post1)\n",
      "Requirement already satisfied: webencodings in c:\\users\\abdul\\anaconda3\\lib\\site-packages (from bleach->nbconvert->jupyter_tabnine) (0.5.1)\n",
      "Requirement already satisfied: six>=1.9.0 in c:\\users\\abdul\\anaconda3\\lib\\site-packages (from bleach->nbconvert->jupyter_tabnine) (1.16.0)\n",
      "Requirement already satisfied: psutil in c:\\users\\abdul\\anaconda3\\lib\\site-packages (from ipykernel->notebook>=4.2->jupyter_tabnine) (5.9.0)\n",
      "Requirement already satisfied: comm>=0.1.1 in c:\\users\\abdul\\anaconda3\\lib\\site-packages (from ipykernel->notebook>=4.2->jupyter_tabnine) (0.1.2)\n",
      "Requirement already satisfied: debugpy>=1.0 in c:\\users\\abdul\\anaconda3\\lib\\site-packages (from ipykernel->notebook>=4.2->jupyter_tabnine) (1.5.1)\n",
      "Requirement already satisfied: executing in c:\\users\\abdul\\anaconda3\\lib\\site-packages (from stack-data->ipython->jupyter_tabnine) (0.8.3)\n",
      "Requirement already satisfied: asttokens in c:\\users\\abdul\\anaconda3\\lib\\site-packages (from stack-data->ipython->jupyter_tabnine) (2.0.5)\n",
      "Requirement already satisfied: pure-eval in c:\\users\\abdul\\anaconda3\\lib\\site-packages (from stack-data->ipython->jupyter_tabnine) (0.2.2)\n",
      "Requirement already satisfied: pyrsistent!=0.17.0,!=0.17.1,!=0.17.2,>=0.14.0 in c:\\users\\abdul\\anaconda3\\lib\\site-packages (from jsonschema>=2.6->nbformat->notebook>=4.2->jupyter_tabnine) (0.18.0)\n",
      "Requirement already satisfied: attrs>=17.4.0 in c:\\users\\abdul\\anaconda3\\lib\\site-packages (from jsonschema>=2.6->nbformat->notebook>=4.2->jupyter_tabnine) (22.1.0)\n",
      "Requirement already satisfied: anyio<4,>=3.1.0 in c:\\users\\abdul\\anaconda3\\lib\\site-packages (from jupyter-server>=1.8->nbclassic>=0.4.7->notebook>=4.2->jupyter_tabnine) (3.5.0)\n",
      "Requirement already satisfied: websocket-client in c:\\users\\abdul\\anaconda3\\lib\\site-packages (from jupyter-server>=1.8->nbclassic>=0.4.7->notebook>=4.2->jupyter_tabnine) (0.58.0)\n",
      "Requirement already satisfied: cffi>=1.0.1 in c:\\users\\abdul\\anaconda3\\lib\\site-packages (from argon2-cffi-bindings->argon2-cffi->notebook>=4.2->jupyter_tabnine) (1.15.1)\n",
      "Requirement already satisfied: idna>=2.8 in c:\\users\\abdul\\anaconda3\\lib\\site-packages (from anyio<4,>=3.1.0->jupyter-server>=1.8->nbclassic>=0.4.7->notebook>=4.2->jupyter_tabnine) (3.4)\n",
      "Requirement already satisfied: sniffio>=1.1 in c:\\users\\abdul\\anaconda3\\lib\\site-packages (from anyio<4,>=3.1.0->jupyter-server>=1.8->nbclassic>=0.4.7->notebook>=4.2->jupyter_tabnine) (1.2.0)\n",
      "Requirement already satisfied: pycparser in c:\\users\\abdul\\anaconda3\\lib\\site-packages (from cffi>=1.0.1->argon2-cffi-bindings->argon2-cffi->notebook>=4.2->jupyter_tabnine) (2.21)\n",
      "Installing collected packages: jupyter_tabnine\n",
      "Successfully installed jupyter_tabnine-1.2.3\n"
     ]
    }
   ],
   "source": [
    "pip install jupyter_tabnine --user"
   ]
  },
  {
   "cell_type": "code",
   "execution_count": 20,
   "id": "35727d48",
   "metadata": {},
   "outputs": [
    {
     "ename": "SyntaxError",
     "evalue": "invalid syntax (1221104772.py, line 1)",
     "output_type": "error",
     "traceback": [
      "\u001b[1;36m  Cell \u001b[1;32mIn[20], line 1\u001b[1;36m\u001b[0m\n\u001b[1;33m    jupyter nbextension install --py jupyter_tabnine --user\u001b[0m\n\u001b[1;37m            ^\u001b[0m\n\u001b[1;31mSyntaxError\u001b[0m\u001b[1;31m:\u001b[0m invalid syntax\n"
     ]
    }
   ],
   "source": [
    "jupyter nbextension install --py jupyter_tabnine --user\n",
    "\n"
   ]
  },
  {
   "cell_type": "code",
   "execution_count": 21,
   "id": "046626dc",
   "metadata": {},
   "outputs": [
    {
     "ename": "SyntaxError",
     "evalue": "invalid syntax (4023072854.py, line 1)",
     "output_type": "error",
     "traceback": [
      "\u001b[1;36m  Cell \u001b[1;32mIn[21], line 1\u001b[1;36m\u001b[0m\n\u001b[1;33m    jupyter nbextension install --py jupyter_tabnine --user\u001b[0m\n\u001b[1;37m            ^\u001b[0m\n\u001b[1;31mSyntaxError\u001b[0m\u001b[1;31m:\u001b[0m invalid syntax\n"
     ]
    }
   ],
   "source": [
    "jupyter nbextension install --py jupyter_tabnine --user\n"
   ]
  },
  {
   "cell_type": "code",
   "execution_count": 22,
   "id": "0d129d91",
   "metadata": {},
   "outputs": [
    {
     "ename": "SyntaxError",
     "evalue": "invalid syntax (2709518827.py, line 1)",
     "output_type": "error",
     "traceback": [
      "\u001b[1;36m  Cell \u001b[1;32mIn[22], line 1\u001b[1;36m\u001b[0m\n\u001b[1;33m    jupyter nbextension install --py jupyter_tabnine --user\u001b[0m\n\u001b[1;37m            ^\u001b[0m\n\u001b[1;31mSyntaxError\u001b[0m\u001b[1;31m:\u001b[0m invalid syntax\n"
     ]
    }
   ],
   "source": [
    "jupyter nbextension install --py jupyter_tabnine --user\n",
    "jupyter nbextension enable --py jupyter_tabnine --user\n",
    "jupyter serverextension enable --py jupyter_tabnine --user\n"
   ]
  },
  {
   "cell_type": "code",
   "execution_count": 1,
   "id": "d7bfdac2",
   "metadata": {},
   "outputs": [
    {
     "ename": "SyntaxError",
     "evalue": "invalid syntax (2709518827.py, line 1)",
     "output_type": "error",
     "traceback": [
      "\u001b[1;36m  Cell \u001b[1;32mIn[1], line 1\u001b[1;36m\u001b[0m\n\u001b[1;33m    jupyter nbextension install --py jupyter_tabnine --user\u001b[0m\n\u001b[1;37m            ^\u001b[0m\n\u001b[1;31mSyntaxError\u001b[0m\u001b[1;31m:\u001b[0m invalid syntax\n"
     ]
    }
   ],
   "source": [
    "jupyter nbextension install --py jupyter_tabnine --user\n",
    "jupyter nbextension enable --py jupyter_tabnine --user\n",
    "jupyter serverextension enable --py jupyter_tabnine --user\n"
   ]
  },
  {
   "cell_type": "code",
   "execution_count": 1,
   "id": "b3f09712",
   "metadata": {},
   "outputs": [
    {
     "name": "stdout",
     "output_type": "stream",
     "text": [
      "Requirement already satisfied: jupyter_tabnine in c:\\users\\abdul\\appdata\\roaming\\python\\python310\\site-packages (1.2.3)\n",
      "Requirement already satisfied: nbconvert in c:\\users\\abdul\\anaconda3\\lib\\site-packages (from jupyter_tabnine) (6.5.4)\n",
      "Requirement already satisfied: jupyter-core in c:\\users\\abdul\\anaconda3\\lib\\site-packages (from jupyter_tabnine) (5.2.0)\n",
      "Requirement already satisfied: ipython in c:\\users\\abdul\\anaconda3\\lib\\site-packages (from jupyter_tabnine) (8.10.0)\n",
      "Requirement already satisfied: notebook>=4.2 in c:\\users\\abdul\\anaconda3\\lib\\site-packages (from jupyter_tabnine) (6.5.2)\n",
      "Requirement already satisfied: terminado>=0.8.3 in c:\\users\\abdul\\anaconda3\\lib\\site-packages (from notebook>=4.2->jupyter_tabnine) (0.17.1)\n",
      "Requirement already satisfied: ipykernel in c:\\users\\abdul\\anaconda3\\lib\\site-packages (from notebook>=4.2->jupyter_tabnine) (6.19.2)\n",
      "Requirement already satisfied: Send2Trash>=1.8.0 in c:\\users\\abdul\\anaconda3\\lib\\site-packages (from notebook>=4.2->jupyter_tabnine) (1.8.0)\n",
      "Requirement already satisfied: ipython-genutils in c:\\users\\abdul\\anaconda3\\lib\\site-packages (from notebook>=4.2->jupyter_tabnine) (0.2.0)\n",
      "Requirement already satisfied: nbformat in c:\\users\\abdul\\anaconda3\\lib\\site-packages (from notebook>=4.2->jupyter_tabnine) (5.7.0)\n",
      "Requirement already satisfied: pyzmq>=17 in c:\\users\\abdul\\anaconda3\\lib\\site-packages (from notebook>=4.2->jupyter_tabnine) (23.2.0)\n",
      "Requirement already satisfied: prometheus-client in c:\\users\\abdul\\anaconda3\\lib\\site-packages (from notebook>=4.2->jupyter_tabnine) (0.14.1)\n",
      "Requirement already satisfied: nbclassic>=0.4.7 in c:\\users\\abdul\\anaconda3\\lib\\site-packages (from notebook>=4.2->jupyter_tabnine) (0.5.2)\n",
      "Requirement already satisfied: jinja2 in c:\\users\\abdul\\anaconda3\\lib\\site-packages (from notebook>=4.2->jupyter_tabnine) (3.1.2)\n",
      "Requirement already satisfied: jupyter-client>=5.3.4 in c:\\users\\abdul\\anaconda3\\lib\\site-packages (from notebook>=4.2->jupyter_tabnine) (7.3.4)\n",
      "Requirement already satisfied: nest-asyncio>=1.5 in c:\\users\\abdul\\anaconda3\\lib\\site-packages (from notebook>=4.2->jupyter_tabnine) (1.5.6)\n",
      "Requirement already satisfied: argon2-cffi in c:\\users\\abdul\\anaconda3\\lib\\site-packages (from notebook>=4.2->jupyter_tabnine) (21.3.0)\n",
      "Requirement already satisfied: tornado>=6.1 in c:\\users\\abdul\\anaconda3\\lib\\site-packages (from notebook>=4.2->jupyter_tabnine) (6.1)\n",
      "Requirement already satisfied: traitlets>=4.2.1 in c:\\users\\abdul\\anaconda3\\lib\\site-packages (from notebook>=4.2->jupyter_tabnine) (5.7.1)\n",
      "Requirement already satisfied: pywin32>=1.0 in c:\\users\\abdul\\anaconda3\\lib\\site-packages (from jupyter-core->jupyter_tabnine) (305.1)\n",
      "Requirement already satisfied: platformdirs>=2.5 in c:\\users\\abdul\\anaconda3\\lib\\site-packages (from jupyter-core->jupyter_tabnine) (2.5.2)\n",
      "Requirement already satisfied: jupyterlab-pygments in c:\\users\\abdul\\anaconda3\\lib\\site-packages (from nbconvert->jupyter_tabnine) (0.1.2)\n",
      "Requirement already satisfied: lxml in c:\\users\\abdul\\anaconda3\\lib\\site-packages (from nbconvert->jupyter_tabnine) (4.9.1)\n",
      "Requirement already satisfied: tinycss2 in c:\\users\\abdul\\anaconda3\\lib\\site-packages (from nbconvert->jupyter_tabnine) (1.2.1)\n",
      "Requirement already satisfied: MarkupSafe>=2.0 in c:\\users\\abdul\\anaconda3\\lib\\site-packages (from nbconvert->jupyter_tabnine) (2.1.1)\n",
      "Requirement already satisfied: pygments>=2.4.1 in c:\\users\\abdul\\anaconda3\\lib\\site-packages (from nbconvert->jupyter_tabnine) (2.11.2)\n",
      "Requirement already satisfied: pandocfilters>=1.4.1 in c:\\users\\abdul\\anaconda3\\lib\\site-packages (from nbconvert->jupyter_tabnine) (1.5.0)\n",
      "Requirement already satisfied: beautifulsoup4 in c:\\users\\abdul\\anaconda3\\lib\\site-packages (from nbconvert->jupyter_tabnine) (4.11.1)\n",
      "Requirement already satisfied: bleach in c:\\users\\abdul\\anaconda3\\lib\\site-packages (from nbconvert->jupyter_tabnine) (4.1.0)\n",
      "Requirement already satisfied: packaging in c:\\users\\abdul\\anaconda3\\lib\\site-packages (from nbconvert->jupyter_tabnine) (22.0)\n",
      "Requirement already satisfied: entrypoints>=0.2.2 in c:\\users\\abdul\\anaconda3\\lib\\site-packages (from nbconvert->jupyter_tabnine) (0.4)\n",
      "Requirement already satisfied: mistune<2,>=0.8.1 in c:\\users\\abdul\\anaconda3\\lib\\site-packages (from nbconvert->jupyter_tabnine) (0.8.4)\n",
      "Requirement already satisfied: defusedxml in c:\\users\\abdul\\anaconda3\\lib\\site-packages (from nbconvert->jupyter_tabnine) (0.7.1)\n",
      "Requirement already satisfied: nbclient>=0.5.0 in c:\\users\\abdul\\anaconda3\\lib\\site-packages (from nbconvert->jupyter_tabnine) (0.5.13)\n",
      "Requirement already satisfied: matplotlib-inline in c:\\users\\abdul\\anaconda3\\lib\\site-packages (from ipython->jupyter_tabnine) (0.1.6)\n",
      "Requirement already satisfied: decorator in c:\\users\\abdul\\anaconda3\\lib\\site-packages (from ipython->jupyter_tabnine) (5.1.1)\n",
      "Requirement already satisfied: prompt-toolkit<3.1.0,>=3.0.30 in c:\\users\\abdul\\anaconda3\\lib\\site-packages (from ipython->jupyter_tabnine) (3.0.36)\n",
      "Requirement already satisfied: jedi>=0.16 in c:\\users\\abdul\\anaconda3\\lib\\site-packages (from ipython->jupyter_tabnine) (0.18.1)\n",
      "Requirement already satisfied: colorama in c:\\users\\abdul\\anaconda3\\lib\\site-packages (from ipython->jupyter_tabnine) (0.4.6)\n",
      "Requirement already satisfied: backcall in c:\\users\\abdul\\anaconda3\\lib\\site-packages (from ipython->jupyter_tabnine) (0.2.0)\n",
      "Requirement already satisfied: stack-data in c:\\users\\abdul\\anaconda3\\lib\\site-packages (from ipython->jupyter_tabnine) (0.2.0)\n",
      "Requirement already satisfied: pickleshare in c:\\users\\abdul\\anaconda3\\lib\\site-packages (from ipython->jupyter_tabnine) (0.7.5)\n",
      "Requirement already satisfied: parso<0.9.0,>=0.8.0 in c:\\users\\abdul\\anaconda3\\lib\\site-packages (from jedi>=0.16->ipython->jupyter_tabnine) (0.8.3)\n",
      "Requirement already satisfied: python-dateutil>=2.8.2 in c:\\users\\abdul\\anaconda3\\lib\\site-packages (from jupyter-client>=5.3.4->notebook>=4.2->jupyter_tabnine) (2.8.2)\n",
      "Requirement already satisfied: notebook-shim>=0.1.0 in c:\\users\\abdul\\anaconda3\\lib\\site-packages (from nbclassic>=0.4.7->notebook>=4.2->jupyter_tabnine) (0.2.2)\n",
      "Requirement already satisfied: jupyter-server>=1.8 in c:\\users\\abdul\\anaconda3\\lib\\site-packages (from nbclassic>=0.4.7->notebook>=4.2->jupyter_tabnine) (1.23.4)\n",
      "Requirement already satisfied: jsonschema>=2.6 in c:\\users\\abdul\\anaconda3\\lib\\site-packages (from nbformat->notebook>=4.2->jupyter_tabnine) (4.17.3)\n",
      "Requirement already satisfied: fastjsonschema in c:\\users\\abdul\\anaconda3\\lib\\site-packages (from nbformat->notebook>=4.2->jupyter_tabnine) (2.16.2)\n",
      "Requirement already satisfied: wcwidth in c:\\users\\abdul\\anaconda3\\lib\\site-packages (from prompt-toolkit<3.1.0,>=3.0.30->ipython->jupyter_tabnine) (0.2.5)\n",
      "Requirement already satisfied: pywinpty>=1.1.0 in c:\\users\\abdul\\anaconda3\\lib\\site-packages (from terminado>=0.8.3->notebook>=4.2->jupyter_tabnine) (2.0.10)\n",
      "Requirement already satisfied: argon2-cffi-bindings in c:\\users\\abdul\\anaconda3\\lib\\site-packages (from argon2-cffi->notebook>=4.2->jupyter_tabnine) (21.2.0)\n",
      "Requirement already satisfied: soupsieve>1.2 in c:\\users\\abdul\\anaconda3\\lib\\site-packages (from beautifulsoup4->nbconvert->jupyter_tabnine) (2.3.2.post1)\n",
      "Requirement already satisfied: six>=1.9.0 in c:\\users\\abdul\\anaconda3\\lib\\site-packages (from bleach->nbconvert->jupyter_tabnine) (1.16.0)\n",
      "Requirement already satisfied: webencodings in c:\\users\\abdul\\anaconda3\\lib\\site-packages (from bleach->nbconvert->jupyter_tabnine) (0.5.1)\n",
      "Requirement already satisfied: comm>=0.1.1 in c:\\users\\abdul\\anaconda3\\lib\\site-packages (from ipykernel->notebook>=4.2->jupyter_tabnine) (0.1.2)\n",
      "Requirement already satisfied: psutil in c:\\users\\abdul\\anaconda3\\lib\\site-packages (from ipykernel->notebook>=4.2->jupyter_tabnine) (5.9.0)\n",
      "Requirement already satisfied: debugpy>=1.0 in c:\\users\\abdul\\anaconda3\\lib\\site-packages (from ipykernel->notebook>=4.2->jupyter_tabnine) (1.5.1)\n",
      "Requirement already satisfied: executing in c:\\users\\abdul\\anaconda3\\lib\\site-packages (from stack-data->ipython->jupyter_tabnine) (0.8.3)\n",
      "Requirement already satisfied: pure-eval in c:\\users\\abdul\\anaconda3\\lib\\site-packages (from stack-data->ipython->jupyter_tabnine) (0.2.2)\n",
      "Requirement already satisfied: asttokens in c:\\users\\abdul\\anaconda3\\lib\\site-packages (from stack-data->ipython->jupyter_tabnine) (2.0.5)\n",
      "Requirement already satisfied: attrs>=17.4.0 in c:\\users\\abdul\\anaconda3\\lib\\site-packages (from jsonschema>=2.6->nbformat->notebook>=4.2->jupyter_tabnine) (22.1.0)\n",
      "Requirement already satisfied: pyrsistent!=0.17.0,!=0.17.1,!=0.17.2,>=0.14.0 in c:\\users\\abdul\\anaconda3\\lib\\site-packages (from jsonschema>=2.6->nbformat->notebook>=4.2->jupyter_tabnine) (0.18.0)\n",
      "Requirement already satisfied: websocket-client in c:\\users\\abdul\\anaconda3\\lib\\site-packages (from jupyter-server>=1.8->nbclassic>=0.4.7->notebook>=4.2->jupyter_tabnine) (0.58.0)\n",
      "Requirement already satisfied: anyio<4,>=3.1.0 in c:\\users\\abdul\\anaconda3\\lib\\site-packages (from jupyter-server>=1.8->nbclassic>=0.4.7->notebook>=4.2->jupyter_tabnine) (3.5.0)\n",
      "Requirement already satisfied: cffi>=1.0.1 in c:\\users\\abdul\\anaconda3\\lib\\site-packages (from argon2-cffi-bindings->argon2-cffi->notebook>=4.2->jupyter_tabnine) (1.15.1)\n",
      "Requirement already satisfied: sniffio>=1.1 in c:\\users\\abdul\\anaconda3\\lib\\site-packages (from anyio<4,>=3.1.0->jupyter-server>=1.8->nbclassic>=0.4.7->notebook>=4.2->jupyter_tabnine) (1.2.0)\n",
      "Requirement already satisfied: idna>=2.8 in c:\\users\\abdul\\anaconda3\\lib\\site-packages (from anyio<4,>=3.1.0->jupyter-server>=1.8->nbclassic>=0.4.7->notebook>=4.2->jupyter_tabnine) (3.4)\n",
      "Requirement already satisfied: pycparser in c:\\users\\abdul\\anaconda3\\lib\\site-packages (from cffi>=1.0.1->argon2-cffi-bindings->argon2-cffi->notebook>=4.2->jupyter_tabnine) (2.21)\n",
      "Note: you may need to restart the kernel to use updated packages.\n"
     ]
    }
   ],
   "source": [
    "pip install jupyter_tabnine --user"
   ]
  },
  {
   "cell_type": "code",
   "execution_count": 1,
   "id": "e16386f9",
   "metadata": {},
   "outputs": [
    {
     "ename": "SyntaxError",
     "evalue": "invalid syntax (2466260577.py, line 1)",
     "output_type": "error",
     "traceback": [
      "\u001b[1;36m  Cell \u001b[1;32mIn[1], line 1\u001b[1;36m\u001b[0m\n\u001b[1;33m    jupyter nbextension install --py jupyter_tabnine --user\u001b[0m\n\u001b[1;37m            ^\u001b[0m\n\u001b[1;31mSyntaxError\u001b[0m\u001b[1;31m:\u001b[0m invalid syntax\n"
     ]
    }
   ],
   "source": [
    "jupyter nbextension install --py jupyter_tabnine --user\n",
    "jupyter nbextension enable --py jupyter_tabnine --user\n",
    "jupyter serverextension enable --py jupyter_tabnine --user\n",
    "\n"
   ]
  },
  {
   "cell_type": "code",
   "execution_count": 2,
   "id": "501d240b",
   "metadata": {},
   "outputs": [
    {
     "ename": "SyntaxError",
     "evalue": "invalid syntax (4023072854.py, line 1)",
     "output_type": "error",
     "traceback": [
      "\u001b[1;36m  Cell \u001b[1;32mIn[2], line 1\u001b[1;36m\u001b[0m\n\u001b[1;33m    jupyter nbextension install --py jupyter_tabnine --user\u001b[0m\n\u001b[1;37m            ^\u001b[0m\n\u001b[1;31mSyntaxError\u001b[0m\u001b[1;31m:\u001b[0m invalid syntax\n"
     ]
    }
   ],
   "source": [
    "jupyter nbextension install --py jupyter_tabnine --user\n"
   ]
  },
  {
   "cell_type": "code",
   "execution_count": 3,
   "id": "22797183",
   "metadata": {},
   "outputs": [
    {
     "ename": "SyntaxError",
     "evalue": "invalid syntax (3132100361.py, line 1)",
     "output_type": "error",
     "traceback": [
      "\u001b[1;36m  Cell \u001b[1;32mIn[3], line 1\u001b[1;36m\u001b[0m\n\u001b[1;33m    jupyter nbextension install --py jupyter_tabnine\u001b[0m\n\u001b[1;37m            ^\u001b[0m\n\u001b[1;31mSyntaxError\u001b[0m\u001b[1;31m:\u001b[0m invalid syntax\n"
     ]
    }
   ],
   "source": [
    "jupyter nbextension install --py jupyter_tabnine\n"
   ]
  },
  {
   "cell_type": "code",
   "execution_count": 4,
   "id": "5aa9fc26",
   "metadata": {
    "collapsed": true
   },
   "outputs": [
    {
     "name": "stderr",
     "output_type": "stream",
     "text": [
      "Installing C:\\Users\\abdul\\AppData\\Roaming\\Python\\Python310\\site-packages\\jupyter_tabnine\\static -> jupyter_tabnine\n",
      "Making directory: C:\\ProgramData\\jupyter\\nbextensions\\jupyter_tabnine\\\n",
      "Copying: C:\\Users\\abdul\\AppData\\Roaming\\Python\\Python310\\site-packages\\jupyter_tabnine\\static\\main.css -> C:\\ProgramData\\jupyter\\nbextensions\\jupyter_tabnine\\main.css\n",
      "Copying: C:\\Users\\abdul\\AppData\\Roaming\\Python\\Python310\\site-packages\\jupyter_tabnine\\static\\main.js -> C:\\ProgramData\\jupyter\\nbextensions\\jupyter_tabnine\\main.js\n",
      "Copying: C:\\Users\\abdul\\AppData\\Roaming\\Python\\Python310\\site-packages\\jupyter_tabnine\\static\\README.md -> C:\\ProgramData\\jupyter\\nbextensions\\jupyter_tabnine\\README.md\n",
      "Copying: C:\\Users\\abdul\\AppData\\Roaming\\Python\\Python310\\site-packages\\jupyter_tabnine\\static\\tabnine.yaml -> C:\\ProgramData\\jupyter\\nbextensions\\jupyter_tabnine\\tabnine.yaml\n",
      "- Validating: ok\n",
      "\n",
      "    To initialize this nbextension in the browser every time the notebook (or other app) loads:\n",
      "    \n",
      "          jupyter nbextension enable jupyter_tabnine --py\n",
      "    \n"
     ]
    }
   ],
   "source": [
    "!jupyter nbextension install --py jupyter_tabnine\n"
   ]
  },
  {
   "cell_type": "code",
   "execution_count": 6,
   "id": "7297fa1a",
   "metadata": {
    "collapsed": true
   },
   "outputs": [
    {
     "name": "stderr",
     "output_type": "stream",
     "text": [
      "Enabling notebook extension jupyter_tabnine/main...\n",
      "      - Validating: ok\n"
     ]
    }
   ],
   "source": [
    "!jupyter nbextension enable --py jupyter_tabnine --user"
   ]
  },
  {
   "cell_type": "code",
   "execution_count": 7,
   "id": "8fee2f0e",
   "metadata": {
    "collapsed": true
   },
   "outputs": [
    {
     "name": "stderr",
     "output_type": "stream",
     "text": [
      "Enabling: jupyter_tabnine\n",
      "- Writing config: C:\\Users\\abdul\\.jupyter\n",
      "    - Validating...\n",
      "      jupyter_tabnine  ok\n"
     ]
    }
   ],
   "source": [
    "!jupyter serverextension enable --py jupyter_tabnine --user"
   ]
  },
  {
   "cell_type": "code",
   "execution_count": 9,
   "id": "d7469884",
   "metadata": {
    "collapsed": true
   },
   "outputs": [
    {
     "name": "stdout",
     "output_type": "stream",
     "text": [
      "Requirement already satisfied: jupyter-tabnine in c:\\users\\abdul\\appdata\\roaming\\python\\python310\\site-packages (1.2.3)\n",
      "Requirement already satisfied: jupyter-core in c:\\users\\abdul\\anaconda3\\lib\\site-packages (from jupyter-tabnine) (5.2.0)\n",
      "Requirement already satisfied: notebook>=4.2 in c:\\users\\abdul\\anaconda3\\lib\\site-packages (from jupyter-tabnine) (6.5.2)\n",
      "Requirement already satisfied: nbconvert in c:\\users\\abdul\\anaconda3\\lib\\site-packages (from jupyter-tabnine) (6.5.4)\n",
      "Requirement already satisfied: ipython in c:\\users\\abdul\\anaconda3\\lib\\site-packages (from jupyter-tabnine) (8.10.0)\n",
      "Requirement already satisfied: pyzmq>=17 in c:\\users\\abdul\\anaconda3\\lib\\site-packages (from notebook>=4.2->jupyter-tabnine) (23.2.0)\n",
      "Requirement already satisfied: ipython-genutils in c:\\users\\abdul\\anaconda3\\lib\\site-packages (from notebook>=4.2->jupyter-tabnine) (0.2.0)\n",
      "Requirement already satisfied: Send2Trash>=1.8.0 in c:\\users\\abdul\\anaconda3\\lib\\site-packages (from notebook>=4.2->jupyter-tabnine) (1.8.0)\n",
      "Requirement already satisfied: jinja2 in c:\\users\\abdul\\anaconda3\\lib\\site-packages (from notebook>=4.2->jupyter-tabnine) (3.1.2)\n",
      "Requirement already satisfied: tornado>=6.1 in c:\\users\\abdul\\anaconda3\\lib\\site-packages (from notebook>=4.2->jupyter-tabnine) (6.1)\n",
      "Requirement already satisfied: argon2-cffi in c:\\users\\abdul\\anaconda3\\lib\\site-packages (from notebook>=4.2->jupyter-tabnine) (21.3.0)\n",
      "Requirement already satisfied: terminado>=0.8.3 in c:\\users\\abdul\\anaconda3\\lib\\site-packages (from notebook>=4.2->jupyter-tabnine) (0.17.1)\n",
      "Requirement already satisfied: nbclassic>=0.4.7 in c:\\users\\abdul\\anaconda3\\lib\\site-packages (from notebook>=4.2->jupyter-tabnine) (0.5.2)\n",
      "Requirement already satisfied: traitlets>=4.2.1 in c:\\users\\abdul\\anaconda3\\lib\\site-packages (from notebook>=4.2->jupyter-tabnine) (5.7.1)\n",
      "Requirement already satisfied: nest-asyncio>=1.5 in c:\\users\\abdul\\anaconda3\\lib\\site-packages (from notebook>=4.2->jupyter-tabnine) (1.5.6)\n",
      "Requirement already satisfied: jupyter-client>=5.3.4 in c:\\users\\abdul\\anaconda3\\lib\\site-packages (from notebook>=4.2->jupyter-tabnine) (7.3.4)\n",
      "Requirement already satisfied: prometheus-client in c:\\users\\abdul\\anaconda3\\lib\\site-packages (from notebook>=4.2->jupyter-tabnine) (0.14.1)\n",
      "Requirement already satisfied: nbformat in c:\\users\\abdul\\anaconda3\\lib\\site-packages (from notebook>=4.2->jupyter-tabnine) (5.7.0)\n",
      "Requirement already satisfied: ipykernel in c:\\users\\abdul\\anaconda3\\lib\\site-packages (from notebook>=4.2->jupyter-tabnine) (6.19.2)\n",
      "Requirement already satisfied: pywin32>=1.0 in c:\\users\\abdul\\anaconda3\\lib\\site-packages (from jupyter-core->jupyter-tabnine) (305.1)\n",
      "Requirement already satisfied: platformdirs>=2.5 in c:\\users\\abdul\\anaconda3\\lib\\site-packages (from jupyter-core->jupyter-tabnine) (2.5.2)\n",
      "Requirement already satisfied: nbclient>=0.5.0 in c:\\users\\abdul\\anaconda3\\lib\\site-packages (from nbconvert->jupyter-tabnine) (0.5.13)\n",
      "Requirement already satisfied: tinycss2 in c:\\users\\abdul\\anaconda3\\lib\\site-packages (from nbconvert->jupyter-tabnine) (1.2.1)\n",
      "Requirement already satisfied: beautifulsoup4 in c:\\users\\abdul\\anaconda3\\lib\\site-packages (from nbconvert->jupyter-tabnine) (4.11.1)\n",
      "Requirement already satisfied: entrypoints>=0.2.2 in c:\\users\\abdul\\anaconda3\\lib\\site-packages (from nbconvert->jupyter-tabnine) (0.4)\n",
      "Requirement already satisfied: packaging in c:\\users\\abdul\\anaconda3\\lib\\site-packages (from nbconvert->jupyter-tabnine) (22.0)\n",
      "Requirement already satisfied: defusedxml in c:\\users\\abdul\\anaconda3\\lib\\site-packages (from nbconvert->jupyter-tabnine) (0.7.1)\n",
      "Requirement already satisfied: pygments>=2.4.1 in c:\\users\\abdul\\anaconda3\\lib\\site-packages (from nbconvert->jupyter-tabnine) (2.11.2)\n",
      "Requirement already satisfied: lxml in c:\\users\\abdul\\anaconda3\\lib\\site-packages (from nbconvert->jupyter-tabnine) (4.9.1)\n",
      "Requirement already satisfied: mistune<2,>=0.8.1 in c:\\users\\abdul\\anaconda3\\lib\\site-packages (from nbconvert->jupyter-tabnine) (0.8.4)\n",
      "Requirement already satisfied: pandocfilters>=1.4.1 in c:\\users\\abdul\\anaconda3\\lib\\site-packages (from nbconvert->jupyter-tabnine) (1.5.0)\n",
      "Requirement already satisfied: jupyterlab-pygments in c:\\users\\abdul\\anaconda3\\lib\\site-packages (from nbconvert->jupyter-tabnine) (0.1.2)\n",
      "Requirement already satisfied: MarkupSafe>=2.0 in c:\\users\\abdul\\anaconda3\\lib\\site-packages (from nbconvert->jupyter-tabnine) (2.1.1)\n",
      "Requirement already satisfied: bleach in c:\\users\\abdul\\anaconda3\\lib\\site-packages (from nbconvert->jupyter-tabnine) (4.1.0)\n",
      "Requirement already satisfied: matplotlib-inline in c:\\users\\abdul\\anaconda3\\lib\\site-packages (from ipython->jupyter-tabnine) (0.1.6)\n",
      "Requirement already satisfied: stack-data in c:\\users\\abdul\\anaconda3\\lib\\site-packages (from ipython->jupyter-tabnine) (0.2.0)\n",
      "Requirement already satisfied: jedi>=0.16 in c:\\users\\abdul\\anaconda3\\lib\\site-packages (from ipython->jupyter-tabnine) (0.18.1)\n",
      "Requirement already satisfied: prompt-toolkit<3.1.0,>=3.0.30 in c:\\users\\abdul\\anaconda3\\lib\\site-packages (from ipython->jupyter-tabnine) (3.0.36)\n",
      "Requirement already satisfied: colorama in c:\\users\\abdul\\anaconda3\\lib\\site-packages (from ipython->jupyter-tabnine) (0.4.6)\n",
      "Requirement already satisfied: decorator in c:\\users\\abdul\\anaconda3\\lib\\site-packages (from ipython->jupyter-tabnine) (5.1.1)\n",
      "Requirement already satisfied: backcall in c:\\users\\abdul\\anaconda3\\lib\\site-packages (from ipython->jupyter-tabnine) (0.2.0)\n",
      "Requirement already satisfied: pickleshare in c:\\users\\abdul\\anaconda3\\lib\\site-packages (from ipython->jupyter-tabnine) (0.7.5)\n",
      "Requirement already satisfied: parso<0.9.0,>=0.8.0 in c:\\users\\abdul\\anaconda3\\lib\\site-packages (from jedi>=0.16->ipython->jupyter-tabnine) (0.8.3)\n",
      "Requirement already satisfied: python-dateutil>=2.8.2 in c:\\users\\abdul\\anaconda3\\lib\\site-packages (from jupyter-client>=5.3.4->notebook>=4.2->jupyter-tabnine) (2.8.2)\n",
      "Requirement already satisfied: notebook-shim>=0.1.0 in c:\\users\\abdul\\anaconda3\\lib\\site-packages (from nbclassic>=0.4.7->notebook>=4.2->jupyter-tabnine) (0.2.2)\n",
      "Requirement already satisfied: jupyter-server>=1.8 in c:\\users\\abdul\\anaconda3\\lib\\site-packages (from nbclassic>=0.4.7->notebook>=4.2->jupyter-tabnine) (1.23.4)\n",
      "Requirement already satisfied: jsonschema>=2.6 in c:\\users\\abdul\\anaconda3\\lib\\site-packages (from nbformat->notebook>=4.2->jupyter-tabnine) (4.17.3)\n",
      "Requirement already satisfied: fastjsonschema in c:\\users\\abdul\\anaconda3\\lib\\site-packages (from nbformat->notebook>=4.2->jupyter-tabnine) (2.16.2)\n",
      "Requirement already satisfied: wcwidth in c:\\users\\abdul\\anaconda3\\lib\\site-packages (from prompt-toolkit<3.1.0,>=3.0.30->ipython->jupyter-tabnine) (0.2.5)\n",
      "Requirement already satisfied: pywinpty>=1.1.0 in c:\\users\\abdul\\anaconda3\\lib\\site-packages (from terminado>=0.8.3->notebook>=4.2->jupyter-tabnine) (2.0.10)\n",
      "Requirement already satisfied: argon2-cffi-bindings in c:\\users\\abdul\\anaconda3\\lib\\site-packages (from argon2-cffi->notebook>=4.2->jupyter-tabnine) (21.2.0)\n",
      "Requirement already satisfied: soupsieve>1.2 in c:\\users\\abdul\\anaconda3\\lib\\site-packages (from beautifulsoup4->nbconvert->jupyter-tabnine) (2.3.2.post1)\n",
      "Requirement already satisfied: webencodings in c:\\users\\abdul\\anaconda3\\lib\\site-packages (from bleach->nbconvert->jupyter-tabnine) (0.5.1)\n",
      "Requirement already satisfied: six>=1.9.0 in c:\\users\\abdul\\anaconda3\\lib\\site-packages (from bleach->nbconvert->jupyter-tabnine) (1.16.0)\n",
      "Requirement already satisfied: psutil in c:\\users\\abdul\\anaconda3\\lib\\site-packages (from ipykernel->notebook>=4.2->jupyter-tabnine) (5.9.0)\n",
      "Requirement already satisfied: comm>=0.1.1 in c:\\users\\abdul\\anaconda3\\lib\\site-packages (from ipykernel->notebook>=4.2->jupyter-tabnine) (0.1.2)\n",
      "Requirement already satisfied: debugpy>=1.0 in c:\\users\\abdul\\anaconda3\\lib\\site-packages (from ipykernel->notebook>=4.2->jupyter-tabnine) (1.5.1)\n",
      "Requirement already satisfied: executing in c:\\users\\abdul\\anaconda3\\lib\\site-packages (from stack-data->ipython->jupyter-tabnine) (0.8.3)\n",
      "Requirement already satisfied: pure-eval in c:\\users\\abdul\\anaconda3\\lib\\site-packages (from stack-data->ipython->jupyter-tabnine) (0.2.2)\n",
      "Requirement already satisfied: asttokens in c:\\users\\abdul\\anaconda3\\lib\\site-packages (from stack-data->ipython->jupyter-tabnine) (2.0.5)\n",
      "Requirement already satisfied: attrs>=17.4.0 in c:\\users\\abdul\\anaconda3\\lib\\site-packages (from jsonschema>=2.6->nbformat->notebook>=4.2->jupyter-tabnine) (22.1.0)\n",
      "Requirement already satisfied: pyrsistent!=0.17.0,!=0.17.1,!=0.17.2,>=0.14.0 in c:\\users\\abdul\\anaconda3\\lib\\site-packages (from jsonschema>=2.6->nbformat->notebook>=4.2->jupyter-tabnine) (0.18.0)\n",
      "Requirement already satisfied: websocket-client in c:\\users\\abdul\\anaconda3\\lib\\site-packages (from jupyter-server>=1.8->nbclassic>=0.4.7->notebook>=4.2->jupyter-tabnine) (0.58.0)\n",
      "Requirement already satisfied: anyio<4,>=3.1.0 in c:\\users\\abdul\\anaconda3\\lib\\site-packages (from jupyter-server>=1.8->nbclassic>=0.4.7->notebook>=4.2->jupyter-tabnine) (3.5.0)\n",
      "Requirement already satisfied: cffi>=1.0.1 in c:\\users\\abdul\\anaconda3\\lib\\site-packages (from argon2-cffi-bindings->argon2-cffi->notebook>=4.2->jupyter-tabnine) (1.15.1)\n",
      "Requirement already satisfied: sniffio>=1.1 in c:\\users\\abdul\\anaconda3\\lib\\site-packages (from anyio<4,>=3.1.0->jupyter-server>=1.8->nbclassic>=0.4.7->notebook>=4.2->jupyter-tabnine) (1.2.0)\n",
      "Requirement already satisfied: idna>=2.8 in c:\\users\\abdul\\anaconda3\\lib\\site-packages (from anyio<4,>=3.1.0->jupyter-server>=1.8->nbclassic>=0.4.7->notebook>=4.2->jupyter-tabnine) (3.4)\n",
      "Requirement already satisfied: pycparser in c:\\users\\abdul\\anaconda3\\lib\\site-packages (from cffi>=1.0.1->argon2-cffi-bindings->argon2-cffi->notebook>=4.2->jupyter-tabnine) (2.21)\n"
     ]
    }
   ],
   "source": [
    "!pip3 install jupyter-tabnine --user"
   ]
  },
  {
   "cell_type": "code",
   "execution_count": 10,
   "id": "36c14ddc",
   "metadata": {
    "collapsed": true
   },
   "outputs": [
    {
     "name": "stdout",
     "output_type": "stream",
     "text": [
      "Requirement already satisfied: jupyter-tabnine in c:\\users\\abdul\\appdata\\roaming\\python\\python310\\site-packages (1.2.3)\n",
      "Requirement already satisfied: jupyter-core in c:\\users\\abdul\\anaconda3\\lib\\site-packages (from jupyter-tabnine) (5.2.0)\n",
      "Requirement already satisfied: nbconvert in c:\\users\\abdul\\anaconda3\\lib\\site-packages (from jupyter-tabnine) (6.5.4)\n",
      "Requirement already satisfied: notebook>=4.2 in c:\\users\\abdul\\anaconda3\\lib\\site-packages (from jupyter-tabnine) (6.5.2)\n",
      "Requirement already satisfied: ipython in c:\\users\\abdul\\anaconda3\\lib\\site-packages (from jupyter-tabnine) (8.10.0)\n",
      "Requirement already satisfied: tornado>=6.1 in c:\\users\\abdul\\anaconda3\\lib\\site-packages (from notebook>=4.2->jupyter-tabnine) (6.1)\n",
      "Requirement already satisfied: prometheus-client in c:\\users\\abdul\\anaconda3\\lib\\site-packages (from notebook>=4.2->jupyter-tabnine) (0.14.1)\n",
      "Requirement already satisfied: pyzmq>=17 in c:\\users\\abdul\\anaconda3\\lib\\site-packages (from notebook>=4.2->jupyter-tabnine) (23.2.0)\n",
      "Requirement already satisfied: jupyter-client>=5.3.4 in c:\\users\\abdul\\anaconda3\\lib\\site-packages (from notebook>=4.2->jupyter-tabnine) (7.3.4)\n",
      "Requirement already satisfied: terminado>=0.8.3 in c:\\users\\abdul\\anaconda3\\lib\\site-packages (from notebook>=4.2->jupyter-tabnine) (0.17.1)\n",
      "Requirement already satisfied: ipykernel in c:\\users\\abdul\\anaconda3\\lib\\site-packages (from notebook>=4.2->jupyter-tabnine) (6.19.2)\n",
      "Requirement already satisfied: argon2-cffi in c:\\users\\abdul\\anaconda3\\lib\\site-packages (from notebook>=4.2->jupyter-tabnine) (21.3.0)\n",
      "Requirement already satisfied: traitlets>=4.2.1 in c:\\users\\abdul\\anaconda3\\lib\\site-packages (from notebook>=4.2->jupyter-tabnine) (5.7.1)\n",
      "Requirement already satisfied: nest-asyncio>=1.5 in c:\\users\\abdul\\anaconda3\\lib\\site-packages (from notebook>=4.2->jupyter-tabnine) (1.5.6)\n",
      "Requirement already satisfied: nbformat in c:\\users\\abdul\\anaconda3\\lib\\site-packages (from notebook>=4.2->jupyter-tabnine) (5.7.0)\n",
      "Requirement already satisfied: jinja2 in c:\\users\\abdul\\anaconda3\\lib\\site-packages (from notebook>=4.2->jupyter-tabnine) (3.1.2)\n",
      "Requirement already satisfied: Send2Trash>=1.8.0 in c:\\users\\abdul\\anaconda3\\lib\\site-packages (from notebook>=4.2->jupyter-tabnine) (1.8.0)\n",
      "Requirement already satisfied: ipython-genutils in c:\\users\\abdul\\anaconda3\\lib\\site-packages (from notebook>=4.2->jupyter-tabnine) (0.2.0)\n",
      "Requirement already satisfied: nbclassic>=0.4.7 in c:\\users\\abdul\\anaconda3\\lib\\site-packages (from notebook>=4.2->jupyter-tabnine) (0.5.2)\n",
      "Requirement already satisfied: platformdirs>=2.5 in c:\\users\\abdul\\anaconda3\\lib\\site-packages (from jupyter-core->jupyter-tabnine) (2.5.2)\n",
      "Requirement already satisfied: pywin32>=1.0 in c:\\users\\abdul\\anaconda3\\lib\\site-packages (from jupyter-core->jupyter-tabnine) (305.1)\n",
      "Requirement already satisfied: pygments>=2.4.1 in c:\\users\\abdul\\anaconda3\\lib\\site-packages (from nbconvert->jupyter-tabnine) (2.11.2)\n",
      "Requirement already satisfied: bleach in c:\\users\\abdul\\anaconda3\\lib\\site-packages (from nbconvert->jupyter-tabnine) (4.1.0)\n",
      "Requirement already satisfied: beautifulsoup4 in c:\\users\\abdul\\anaconda3\\lib\\site-packages (from nbconvert->jupyter-tabnine) (4.11.1)\n",
      "Requirement already satisfied: mistune<2,>=0.8.1 in c:\\users\\abdul\\anaconda3\\lib\\site-packages (from nbconvert->jupyter-tabnine) (0.8.4)\n",
      "Requirement already satisfied: nbclient>=0.5.0 in c:\\users\\abdul\\anaconda3\\lib\\site-packages (from nbconvert->jupyter-tabnine) (0.5.13)\n",
      "Requirement already satisfied: jupyterlab-pygments in c:\\users\\abdul\\anaconda3\\lib\\site-packages (from nbconvert->jupyter-tabnine) (0.1.2)\n",
      "Requirement already satisfied: packaging in c:\\users\\abdul\\anaconda3\\lib\\site-packages (from nbconvert->jupyter-tabnine) (22.0)\n",
      "Requirement already satisfied: MarkupSafe>=2.0 in c:\\users\\abdul\\anaconda3\\lib\\site-packages (from nbconvert->jupyter-tabnine) (2.1.1)\n",
      "Requirement already satisfied: pandocfilters>=1.4.1 in c:\\users\\abdul\\anaconda3\\lib\\site-packages (from nbconvert->jupyter-tabnine) (1.5.0)\n",
      "Requirement already satisfied: tinycss2 in c:\\users\\abdul\\anaconda3\\lib\\site-packages (from nbconvert->jupyter-tabnine) (1.2.1)\n",
      "Requirement already satisfied: entrypoints>=0.2.2 in c:\\users\\abdul\\anaconda3\\lib\\site-packages (from nbconvert->jupyter-tabnine) (0.4)\n",
      "Requirement already satisfied: lxml in c:\\users\\abdul\\anaconda3\\lib\\site-packages (from nbconvert->jupyter-tabnine) (4.9.1)\n",
      "Requirement already satisfied: defusedxml in c:\\users\\abdul\\anaconda3\\lib\\site-packages (from nbconvert->jupyter-tabnine) (0.7.1)\n",
      "Requirement already satisfied: jedi>=0.16 in c:\\users\\abdul\\anaconda3\\lib\\site-packages (from ipython->jupyter-tabnine) (0.18.1)\n",
      "Requirement already satisfied: prompt-toolkit<3.1.0,>=3.0.30 in c:\\users\\abdul\\anaconda3\\lib\\site-packages (from ipython->jupyter-tabnine) (3.0.36)\n",
      "Requirement already satisfied: decorator in c:\\users\\abdul\\anaconda3\\lib\\site-packages (from ipython->jupyter-tabnine) (5.1.1)\n",
      "Requirement already satisfied: backcall in c:\\users\\abdul\\anaconda3\\lib\\site-packages (from ipython->jupyter-tabnine) (0.2.0)\n",
      "Requirement already satisfied: colorama in c:\\users\\abdul\\anaconda3\\lib\\site-packages (from ipython->jupyter-tabnine) (0.4.6)\n",
      "Requirement already satisfied: matplotlib-inline in c:\\users\\abdul\\anaconda3\\lib\\site-packages (from ipython->jupyter-tabnine) (0.1.6)\n",
      "Requirement already satisfied: stack-data in c:\\users\\abdul\\anaconda3\\lib\\site-packages (from ipython->jupyter-tabnine) (0.2.0)\n",
      "Requirement already satisfied: pickleshare in c:\\users\\abdul\\anaconda3\\lib\\site-packages (from ipython->jupyter-tabnine) (0.7.5)\n",
      "Requirement already satisfied: parso<0.9.0,>=0.8.0 in c:\\users\\abdul\\anaconda3\\lib\\site-packages (from jedi>=0.16->ipython->jupyter-tabnine) (0.8.3)\n",
      "Requirement already satisfied: python-dateutil>=2.8.2 in c:\\users\\abdul\\anaconda3\\lib\\site-packages (from jupyter-client>=5.3.4->notebook>=4.2->jupyter-tabnine) (2.8.2)\n",
      "Requirement already satisfied: notebook-shim>=0.1.0 in c:\\users\\abdul\\anaconda3\\lib\\site-packages (from nbclassic>=0.4.7->notebook>=4.2->jupyter-tabnine) (0.2.2)\n",
      "Requirement already satisfied: jupyter-server>=1.8 in c:\\users\\abdul\\anaconda3\\lib\\site-packages (from nbclassic>=0.4.7->notebook>=4.2->jupyter-tabnine) (1.23.4)\n",
      "Requirement already satisfied: fastjsonschema in c:\\users\\abdul\\anaconda3\\lib\\site-packages (from nbformat->notebook>=4.2->jupyter-tabnine) (2.16.2)\n",
      "Requirement already satisfied: jsonschema>=2.6 in c:\\users\\abdul\\anaconda3\\lib\\site-packages (from nbformat->notebook>=4.2->jupyter-tabnine) (4.17.3)\n",
      "Requirement already satisfied: wcwidth in c:\\users\\abdul\\anaconda3\\lib\\site-packages (from prompt-toolkit<3.1.0,>=3.0.30->ipython->jupyter-tabnine) (0.2.5)\n",
      "Requirement already satisfied: pywinpty>=1.1.0 in c:\\users\\abdul\\anaconda3\\lib\\site-packages (from terminado>=0.8.3->notebook>=4.2->jupyter-tabnine) (2.0.10)\n",
      "Requirement already satisfied: argon2-cffi-bindings in c:\\users\\abdul\\anaconda3\\lib\\site-packages (from argon2-cffi->notebook>=4.2->jupyter-tabnine) (21.2.0)\n",
      "Requirement already satisfied: soupsieve>1.2 in c:\\users\\abdul\\anaconda3\\lib\\site-packages (from beautifulsoup4->nbconvert->jupyter-tabnine) (2.3.2.post1)\n",
      "Requirement already satisfied: six>=1.9.0 in c:\\users\\abdul\\anaconda3\\lib\\site-packages (from bleach->nbconvert->jupyter-tabnine) (1.16.0)\n",
      "Requirement already satisfied: webencodings in c:\\users\\abdul\\anaconda3\\lib\\site-packages (from bleach->nbconvert->jupyter-tabnine) (0.5.1)\n",
      "Requirement already satisfied: comm>=0.1.1 in c:\\users\\abdul\\anaconda3\\lib\\site-packages (from ipykernel->notebook>=4.2->jupyter-tabnine) (0.1.2)\n",
      "Requirement already satisfied: psutil in c:\\users\\abdul\\anaconda3\\lib\\site-packages (from ipykernel->notebook>=4.2->jupyter-tabnine) (5.9.0)\n",
      "Requirement already satisfied: debugpy>=1.0 in c:\\users\\abdul\\anaconda3\\lib\\site-packages (from ipykernel->notebook>=4.2->jupyter-tabnine) (1.5.1)\n",
      "Requirement already satisfied: executing in c:\\users\\abdul\\anaconda3\\lib\\site-packages (from stack-data->ipython->jupyter-tabnine) (0.8.3)\n",
      "Requirement already satisfied: pure-eval in c:\\users\\abdul\\anaconda3\\lib\\site-packages (from stack-data->ipython->jupyter-tabnine) (0.2.2)\n",
      "Requirement already satisfied: asttokens in c:\\users\\abdul\\anaconda3\\lib\\site-packages (from stack-data->ipython->jupyter-tabnine) (2.0.5)\n",
      "Requirement already satisfied: attrs>=17.4.0 in c:\\users\\abdul\\anaconda3\\lib\\site-packages (from jsonschema>=2.6->nbformat->notebook>=4.2->jupyter-tabnine) (22.1.0)\n",
      "Requirement already satisfied: pyrsistent!=0.17.0,!=0.17.1,!=0.17.2,>=0.14.0 in c:\\users\\abdul\\anaconda3\\lib\\site-packages (from jsonschema>=2.6->nbformat->notebook>=4.2->jupyter-tabnine) (0.18.0)\n",
      "Requirement already satisfied: websocket-client in c:\\users\\abdul\\anaconda3\\lib\\site-packages (from jupyter-server>=1.8->nbclassic>=0.4.7->notebook>=4.2->jupyter-tabnine) (0.58.0)\n",
      "Requirement already satisfied: anyio<4,>=3.1.0 in c:\\users\\abdul\\anaconda3\\lib\\site-packages (from jupyter-server>=1.8->nbclassic>=0.4.7->notebook>=4.2->jupyter-tabnine) (3.5.0)\n",
      "Requirement already satisfied: cffi>=1.0.1 in c:\\users\\abdul\\anaconda3\\lib\\site-packages (from argon2-cffi-bindings->argon2-cffi->notebook>=4.2->jupyter-tabnine) (1.15.1)\n",
      "Requirement already satisfied: idna>=2.8 in c:\\users\\abdul\\anaconda3\\lib\\site-packages (from anyio<4,>=3.1.0->jupyter-server>=1.8->nbclassic>=0.4.7->notebook>=4.2->jupyter-tabnine) (3.4)\n",
      "Requirement already satisfied: sniffio>=1.1 in c:\\users\\abdul\\anaconda3\\lib\\site-packages (from anyio<4,>=3.1.0->jupyter-server>=1.8->nbclassic>=0.4.7->notebook>=4.2->jupyter-tabnine) (1.2.0)\n",
      "Requirement already satisfied: pycparser in c:\\users\\abdul\\anaconda3\\lib\\site-packages (from cffi>=1.0.1->argon2-cffi-bindings->argon2-cffi->notebook>=4.2->jupyter-tabnine) (2.21)\n"
     ]
    },
    {
     "name": "stderr",
     "output_type": "stream",
     "text": [
      "Installing C:\\Users\\abdul\\AppData\\Roaming\\Python\\Python310\\site-packages\\jupyter_tabnine\\static -> jupyter_tabnine\n",
      "Making directory: C:\\Users\\abdul\\AppData\\Roaming\\jupyter\\nbextensions\\jupyter_tabnine\\\n",
      "Copying: C:\\Users\\abdul\\AppData\\Roaming\\Python\\Python310\\site-packages\\jupyter_tabnine\\static\\main.css -> C:\\Users\\abdul\\AppData\\Roaming\\jupyter\\nbextensions\\jupyter_tabnine\\main.css\n",
      "Copying: C:\\Users\\abdul\\AppData\\Roaming\\Python\\Python310\\site-packages\\jupyter_tabnine\\static\\main.js -> C:\\Users\\abdul\\AppData\\Roaming\\jupyter\\nbextensions\\jupyter_tabnine\\main.js\n",
      "Copying: C:\\Users\\abdul\\AppData\\Roaming\\Python\\Python310\\site-packages\\jupyter_tabnine\\static\\README.md -> C:\\Users\\abdul\\AppData\\Roaming\\jupyter\\nbextensions\\jupyter_tabnine\\README.md\n",
      "Copying: C:\\Users\\abdul\\AppData\\Roaming\\Python\\Python310\\site-packages\\jupyter_tabnine\\static\\tabnine.yaml -> C:\\Users\\abdul\\AppData\\Roaming\\jupyter\\nbextensions\\jupyter_tabnine\\tabnine.yaml\n",
      "- Validating: ok\n",
      "\n",
      "    To initialize this nbextension in the browser every time the notebook (or other app) loads:\n",
      "    \n",
      "          jupyter nbextension enable jupyter_tabnine --user --py\n",
      "    \n",
      "Enabling notebook extension jupyter_tabnine/main...\n",
      "      - Validating: ok\n",
      "Enabling: jupyter_tabnine\n",
      "- Writing config: C:\\Users\\abdul\\.jupyter\n",
      "    - Validating...\n",
      "      jupyter_tabnine  ok\n"
     ]
    }
   ],
   "source": [
    "!pip3 install jupyter-tabnine --user\n",
    "!jupyter nbextension install --py jupyter_tabnine --user\n",
    "!jupyter nbextension enable --py jupyter_tabnine --user\n",
    "!jupyter serverextension enable --py jupyter_tabnine --user"
   ]
  },
  {
   "cell_type": "code",
   "execution_count": null,
   "id": "eaf55ca2",
   "metadata": {},
   "outputs": [],
   "source": []
  }
 ],
 "metadata": {
  "kernelspec": {
   "display_name": "Python 3 (ipykernel)",
   "language": "python",
   "name": "python3"
  },
  "language_info": {
   "codemirror_mode": {
    "name": "ipython",
    "version": 3
   },
   "file_extension": ".py",
   "mimetype": "text/x-python",
   "name": "python",
   "nbconvert_exporter": "python",
   "pygments_lexer": "ipython3",
   "version": "3.10.9"
  }
 },
 "nbformat": 4,
 "nbformat_minor": 5
}
